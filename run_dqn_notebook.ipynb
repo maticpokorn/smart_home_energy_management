{
 "cells": [
  {
   "cell_type": "code",
   "execution_count": 1,
   "id": "4b7d3736-9540-468a-a3b5-a3c13dcca5f8",
   "metadata": {},
   "outputs": [
    {
     "name": "stdout",
     "output_type": "stream",
     "text": [
      "Collecting tqdm\n",
      "  Using cached tqdm-4.65.0-py3-none-any.whl (77 kB)\n",
      "Installing collected packages: tqdm\n",
      "Successfully installed tqdm-4.65.0\n",
      "Collecting torch\n",
      "  Using cached torch-2.0.0-cp310-cp310-manylinux1_x86_64.whl (619.9 MB)\n",
      "Collecting torchvision\n",
      "  Using cached torchvision-0.15.1-cp310-cp310-manylinux1_x86_64.whl (6.0 MB)\n",
      "Collecting nvidia-cusolver-cu11==11.4.0.1\n",
      "  Using cached nvidia_cusolver_cu11-11.4.0.1-2-py3-none-manylinux1_x86_64.whl (102.6 MB)\n",
      "Collecting filelock\n",
      "  Using cached filelock-3.12.0-py3-none-any.whl (10 kB)\n",
      "Collecting nvidia-nccl-cu11==2.14.3\n",
      "  Using cached nvidia_nccl_cu11-2.14.3-py3-none-manylinux1_x86_64.whl (177.1 MB)\n",
      "Collecting nvidia-cusparse-cu11==11.7.4.91\n",
      "  Using cached nvidia_cusparse_cu11-11.7.4.91-py3-none-manylinux1_x86_64.whl (173.2 MB)\n",
      "Collecting triton==2.0.0\n",
      "  Using cached triton-2.0.0-1-cp310-cp310-manylinux2014_x86_64.manylinux_2_17_x86_64.whl (63.3 MB)\n",
      "Requirement already satisfied: jinja2 in /opt/conda/lib/python3.10/site-packages (from torch) (3.1.2)\n",
      "Collecting nvidia-cuda-cupti-cu11==11.7.101\n",
      "  Using cached nvidia_cuda_cupti_cu11-11.7.101-py3-none-manylinux1_x86_64.whl (11.8 MB)\n",
      "Requirement already satisfied: networkx in /opt/conda/lib/python3.10/site-packages (from torch) (2.8.8)\n",
      "Collecting nvidia-curand-cu11==10.2.10.91\n",
      "  Using cached nvidia_curand_cu11-10.2.10.91-py3-none-manylinux1_x86_64.whl (54.6 MB)\n",
      "Collecting nvidia-cudnn-cu11==8.5.0.96\n",
      "  Using cached nvidia_cudnn_cu11-8.5.0.96-2-py3-none-manylinux1_x86_64.whl (557.1 MB)\n",
      "Collecting nvidia-cublas-cu11==11.10.3.66\n",
      "  Using cached nvidia_cublas_cu11-11.10.3.66-py3-none-manylinux1_x86_64.whl (317.1 MB)\n",
      "Requirement already satisfied: sympy in /opt/conda/lib/python3.10/site-packages (from torch) (1.11.1)\n",
      "Collecting nvidia-cufft-cu11==10.9.0.58\n",
      "  Using cached nvidia_cufft_cu11-10.9.0.58-py3-none-manylinux1_x86_64.whl (168.4 MB)\n",
      "Collecting nvidia-nvtx-cu11==11.7.91\n",
      "  Using cached nvidia_nvtx_cu11-11.7.91-py3-none-manylinux1_x86_64.whl (98 kB)\n",
      "Collecting nvidia-cuda-runtime-cu11==11.7.99\n",
      "  Using cached nvidia_cuda_runtime_cu11-11.7.99-py3-none-manylinux1_x86_64.whl (849 kB)\n",
      "Requirement already satisfied: typing-extensions in /opt/conda/lib/python3.10/site-packages (from torch) (4.4.0)\n",
      "Collecting nvidia-cuda-nvrtc-cu11==11.7.99\n",
      "  Using cached nvidia_cuda_nvrtc_cu11-11.7.99-2-py3-none-manylinux1_x86_64.whl (21.0 MB)\n",
      "Requirement already satisfied: setuptools in /opt/conda/lib/python3.10/site-packages (from nvidia-cublas-cu11==11.10.3.66->torch) (65.5.1)\n",
      "Requirement already satisfied: wheel in /opt/conda/lib/python3.10/site-packages (from nvidia-cublas-cu11==11.10.3.66->torch) (0.38.4)\n",
      "Collecting cmake\n",
      "  Using cached cmake-3.26.3-py2.py3-none-manylinux2014_x86_64.manylinux_2_17_x86_64.whl (24.0 MB)\n",
      "Collecting lit\n",
      "  Using cached lit-16.0.1-py3-none-any.whl\n",
      "Requirement already satisfied: pillow!=8.3.*,>=5.3.0 in /opt/conda/lib/python3.10/site-packages (from torchvision) (9.2.0)\n",
      "Requirement already satisfied: numpy in /opt/conda/lib/python3.10/site-packages (from torchvision) (1.23.5)\n",
      "Requirement already satisfied: requests in /opt/conda/lib/python3.10/site-packages (from torchvision) (2.28.1)\n",
      "Requirement already satisfied: MarkupSafe>=2.0 in /opt/conda/lib/python3.10/site-packages (from jinja2->torch) (2.1.1)\n",
      "Requirement already satisfied: urllib3<1.27,>=1.21.1 in /opt/conda/lib/python3.10/site-packages (from requests->torchvision) (1.26.13)\n",
      "Requirement already satisfied: idna<4,>=2.5 in /opt/conda/lib/python3.10/site-packages (from requests->torchvision) (3.4)\n",
      "Requirement already satisfied: charset-normalizer<3,>=2 in /opt/conda/lib/python3.10/site-packages (from requests->torchvision) (2.1.1)\n",
      "Requirement already satisfied: certifi>=2017.4.17 in /opt/conda/lib/python3.10/site-packages (from requests->torchvision) (2022.9.24)\n",
      "Requirement already satisfied: mpmath>=0.19 in /opt/conda/lib/python3.10/site-packages (from sympy->torch) (1.2.1)\n",
      "Installing collected packages: lit, cmake, nvidia-nvtx-cu11, nvidia-nccl-cu11, nvidia-cusparse-cu11, nvidia-curand-cu11, nvidia-cufft-cu11, nvidia-cuda-runtime-cu11, nvidia-cuda-nvrtc-cu11, nvidia-cuda-cupti-cu11, nvidia-cublas-cu11, filelock, nvidia-cusolver-cu11, nvidia-cudnn-cu11, triton, torch, torchvision\n",
      "Successfully installed cmake-3.26.3 filelock-3.12.0 lit-16.0.1 nvidia-cublas-cu11-11.10.3.66 nvidia-cuda-cupti-cu11-11.7.101 nvidia-cuda-nvrtc-cu11-11.7.99 nvidia-cuda-runtime-cu11-11.7.99 nvidia-cudnn-cu11-8.5.0.96 nvidia-cufft-cu11-10.9.0.58 nvidia-curand-cu11-10.2.10.91 nvidia-cusolver-cu11-11.4.0.1 nvidia-cusparse-cu11-11.7.4.91 nvidia-nccl-cu11-2.14.3 nvidia-nvtx-cu11-11.7.91 torch-2.0.0 torchvision-0.15.1 triton-2.0.0\n",
      "Requirement already satisfied: matplotlib in /opt/conda/lib/python3.10/site-packages (3.6.2)\n",
      "Requirement already satisfied: pyparsing>=2.2.1 in /opt/conda/lib/python3.10/site-packages (from matplotlib) (3.0.9)\n",
      "Requirement already satisfied: python-dateutil>=2.7 in /opt/conda/lib/python3.10/site-packages (from matplotlib) (2.8.2)\n",
      "Requirement already satisfied: numpy>=1.19 in /opt/conda/lib/python3.10/site-packages (from matplotlib) (1.23.5)\n",
      "Requirement already satisfied: contourpy>=1.0.1 in /opt/conda/lib/python3.10/site-packages (from matplotlib) (1.0.6)\n",
      "Requirement already satisfied: packaging>=20.0 in /opt/conda/lib/python3.10/site-packages (from matplotlib) (21.3)\n",
      "Requirement already satisfied: pillow>=6.2.0 in /opt/conda/lib/python3.10/site-packages (from matplotlib) (9.2.0)\n",
      "Requirement already satisfied: cycler>=0.10 in /opt/conda/lib/python3.10/site-packages (from matplotlib) (0.11.0)\n",
      "Requirement already satisfied: kiwisolver>=1.0.1 in /opt/conda/lib/python3.10/site-packages (from matplotlib) (1.4.4)\n",
      "Requirement already satisfied: fonttools>=4.22.0 in /opt/conda/lib/python3.10/site-packages (from matplotlib) (4.38.0)\n",
      "Requirement already satisfied: six>=1.5 in /opt/conda/lib/python3.10/site-packages (from python-dateutil>=2.7->matplotlib) (1.16.0)\n"
     ]
    }
   ],
   "source": [
    "import sys\n",
    "!{sys.executable} -m pip install tqdm\n",
    "!{sys.executable} -m pip install torch torchvision\n",
    "!{sys.executable} -m pip install matplotlib"
   ]
  },
  {
   "cell_type": "code",
   "execution_count": 33,
   "id": "38fa08c7-6eb3-4a71-bd17-1686bf7c9b1d",
   "metadata": {},
   "outputs": [],
   "source": [
    "import pandas as pd\n",
    "from tqdm import tqdm\n",
    "\n",
    "import DQN\n",
    "import DQN_env\n",
    "import numpy as np\n",
    "import matplotlib.pyplot as plt\n",
    "import matplotlib.patches as patches\n",
    "import matplotlib.cm as cm\n",
    "import torch\n",
    "import os\n",
    "import json\n",
    "import matplotlib.ticker as ticker\n",
    "from datetime import datetime\n",
    "\n",
    "MEMORY_CAPACITY = 2000\n",
    "PATH = 'saved_nets'\n",
    "N_DAYS = 2\n",
    "N_STEPS = 7 * 24 * 4\n",
    "BATTERY_SIZE = 100\n",
    "MAX_BATTERY_ENERGY = 5.8 * 1 / 4 * 2\n",
    "\n",
    "seed = 42\n",
    "df = pd.read_csv('working_data_peak.csv')\n",
    "\n",
    "median_market_price = np.median(np.array(df['SMP']))\n",
    "\n",
    "def format_fn(tick_val, tick_pos):\n",
    "    if int(tick_val) in steps:\n",
    "        return labels[int(tick_val)]\n",
    "    else:\n",
    "        return ''\n",
    "\n",
    "def just_date(timestamp):\n",
    "    dates = []\n",
    "    for stamp in timestamp:\n",
    "        stamp = datetime.strptime(stamp, '%Y-%m-%d %H:%M:%S')\n",
    "        stamp = stamp.strftime('%-d.%-m.')\n",
    "        dates.append(stamp)\n",
    "    return dates\n",
    "\n",
    "def run_episode(n_steps, env1, env2, dqn, epsilon, a, b, timestamp):\n",
    "    seed = np.random.randint(0, 1000)\n",
    "    # ------------------------------------------------------\n",
    "    env1.reset(seed)\n",
    "    state = env1.next_observation_normalized()\n",
    "    cummulative_rewardRL = []\n",
    "    actions = []\n",
    "    battery_too_full = []\n",
    "    rewards = []\n",
    "    sRL = 0\n",
    "    # ------------------------------------------------------\n",
    "    env2.reset(seed)\n",
    "    cummulative_reward_rand = []\n",
    "    s_rand = 0\n",
    "    for step in range(n_steps):\n",
    "\n",
    "        action_rand = 1  # np.random.randint(0, 2)\n",
    "        obs_rand, reward_rand, terminated_rand = env2.step(action_rand)\n",
    "        # -------------------------------------------\n",
    "        action = dqn.choose_action(state, epsilon)\n",
    "        actions.append(action)\n",
    "        obs, reward, terminated = env1.step(action)\n",
    "        past_state = state\n",
    "        state = env1.next_observation_normalized()\n",
    "\n",
    "        capacity = obs[1, -1]\n",
    "        past_capacity = obs[1, -2]\n",
    "        market_price = obs[5, -1]\n",
    "        median_market_price = np.median(obs[5,:])\n",
    "        my_reward = battery_penalty_expand(capacity, env1.full_battery_capacity, 0.2, 0.8) \\\n",
    "                    + 10 * a * slope_market_price(capacity, past_capacity, market_price, median_market_price) \\\n",
    "                    + b * reward \\\n",
    "                    + 0 * action_price(action, market_price, median_market_price)\n",
    "\n",
    "        rewards.append(my_reward)\n",
    "\n",
    "        # the reinforcement learning tends to save some energy in the battery, therefore we\n",
    "        # \"sell\" all the energy left in the battery and add it to the cumulative reward\n",
    "        if step == n_steps - 1:\n",
    "            left_in_battery = obs[1, -1]\n",
    "            last_price = obs[5, -1]\n",
    "            left_in_battery_sold = left_in_battery * last_price\n",
    "            sRL += left_in_battery_sold\n",
    "\n",
    "            left_in_battery_rand = obs_rand[1, -1]\n",
    "            last_price_rand = obs_rand[5, -1]\n",
    "            left_in_battery_sold_rand = left_in_battery_rand * last_price_rand\n",
    "            s_rand += left_in_battery_sold_rand\n",
    "\n",
    "        s_rand += reward_rand\n",
    "        cummulative_reward_rand.append(s_rand)\n",
    "\n",
    "        sRL += reward\n",
    "        cummulative_rewardRL.append(sRL)\n",
    "        \n",
    "        dqn.store_transition(past_state, action, my_reward, state)\n",
    "\n",
    "        if dqn.memory_counter > MEMORY_CAPACITY:\n",
    "            dqn.learn()\n",
    "        \n",
    "        if terminated:\n",
    "            break\n",
    "\n",
    "    #if env1.test:\n",
    "        #plot_results(env1, env2, cummulative_rewardRL, cummulative_reward_rand, actions, rewards, timestamp)\n",
    "\n",
    "    return sRL, s_rand\n",
    "\n",
    "\n",
    "def plot_results(env1, env2, cummulative_rewardRL, cummulative_reward_rand, actions, rewards, timestamp):\n",
    "    history = np.array(env1.history)\n",
    "    steps = history[:, 0]\n",
    "    battery_capacity = history[:, 1]\n",
    "    energy_consumption = history[:, 3]\n",
    "    market_price = history[:, 5] * 100\n",
    "    amount_paid = history[:, 6] * 100\n",
    "    time_of_day = history[:, 7]\n",
    "    # print(np.mean(energy_consumption))\n",
    "    fig, ax = plt.subplots()\n",
    "    labels = just_date(timestamp)\n",
    "    ax.xaxis.set_major_formatter(format_fn)\n",
    "    ax.xaxis.set_major_locator(MaxNLocator(integer=True))\n",
    "    ax.plot(steps, battery_capacity, label='DQN battery charge', c='blue', linewidth=0.7)\n",
    "    # plt.plot(steps, amount_paid, label='amount paid', c='brown', linewidth=0.5)\n",
    "    ax.plot(steps, market_price, label='market price', c='orange', linewidth=0.5)\n",
    "    ax.plot(steps, np.array(cummulative_rewardRL) / 5, label='DQN cost', c='darkblue', linewidth=0.7)\n",
    "    ax.plot(steps, np.array(actions) * 10, label='action', c='lightgreen', linewidth=0.5, alpha=0.4)\n",
    "    ax.plot(steps, np.array(rewards) * 10, c='red', linewidth=0.3, alpha=0.5)\n",
    "    '''\n",
    "    cmap = cm.get_cmap('Purples')\n",
    "    for i in range(n_steps - 1):\n",
    "        h = ax.get_ylim()[1] - ax.get_ylim()[0]\n",
    "        w = 1\n",
    "        c1 = (steps[i], plt.ylim()[0])\n",
    "        rect = patches.Rectangle(c1, w, h, color=cmap(time_of_day[i]))\n",
    "        ax.add_patch(rect)\n",
    "    '''\n",
    "    history_rand = np.array(env2.history)\n",
    "    ax.plot(steps, np.array(cummulative_reward_rand) / 5, label='compare cost', c='magenta', linewidth=0.7)\n",
    "    battery_capacity_rand = history_rand[:, 1]\n",
    "    ax.plot(steps, battery_capacity_rand, label='compare battery charge', c='magenta', linewidth=0.7, alpha=0.5)\n",
    "\n",
    "    ax.legend(loc='lower left', prop={'size': 6})\n",
    "    fig.show()\n",
    "\n",
    "    \n",
    "def print_episode_results(s1, s2, episode, epsilon):   \n",
    "    response = \"Episode:\" + episode + \" | Epsilon: \" + str(round(epsilon, 2)) + \" | DQN cost:\" + str(round(s1, 2)) + \" | compare cost:\" + str(round(s2, 2)) + \" | Gain over compare: \" + str(round(s1 - s2, 2)) + \"( \" + str(round(100 * (s1 - s2) / abs(s2), 2)) + \"% )\"\n",
    "    print(response)    \n",
    "    return round(100 * (s1 - s2) / abs(s1), 2), response\n",
    "\n",
    "\n",
    "def action_price(action, market_price, median_market_price):\n",
    "    above_median = 1 if market_price > median_market_price else 0\n",
    "    if (market_price > median_market_price) == (action == 1):\n",
    "        return 1\n",
    "    return -1\n",
    "\n",
    "\n",
    "def battery_penalty(capacity, full_capacity):\n",
    "    relative_c = capacity / full_capacity\n",
    "    if relative_c < 0.5:\n",
    "        f = - ((4 * relative_c - 2) ** 2) * 2\n",
    "    else:\n",
    "        f = - ((4 * relative_c - 2) ** 2) * 4\n",
    "    return f + 2\n",
    "\n",
    "\n",
    "def battery_penalty_expand(capacity, full_capacity, zero_low, zero_high):\n",
    "    x = capacity / full_capacity\n",
    "    if x < zero_low:\n",
    "        f = - (2 / zero_low * x - 2) ** 2 / 2\n",
    "    elif x > zero_high:\n",
    "        f = - (2 / (1 - zero_high) * (x - zero_high)) ** 2 * 4\n",
    "    else:\n",
    "        f = 0\n",
    "    return f + 1\n",
    "\n",
    "\n",
    "def slope_market_price(capacity, past_capacity, market_price, avg_market_price):\n",
    "    slope = capacity - past_capacity\n",
    "    relative_market_price = market_price - avg_market_price\n",
    "    return - (slope * relative_market_price)\n",
    "\n",
    "def save_properties(path, df, epsilon, a, b):\n",
    "    d = {\n",
    "        \"battery\": BATTERY_SIZE,\n",
    "        \"power\": MAX_BATTERY_ENERGY,\n",
    "        \"n_days\": N_DAYS,\n",
    "        \"epsilon\": epsilon,\n",
    "        \"a\": a,\n",
    "        \"b\": b\n",
    "    }\n",
    "    df.to_csv(path + '/df.csv')\n",
    "    \n",
    "    with open(path + \"/properties.json\", \"w\") as outfile:\n",
    "            json.dump(d, outfile)\n",
    "\n",
    "def load_properties(path):\n",
    "    d = {}       \n",
    "    with open(path + \"/properties.json\", \"r\") as openfile:\n",
    "        d = json.load(openfile)\n",
    "    return d\n",
    "\n",
    "def test(data, netpath):\n",
    "    print(\"--- TESTING ---\")\n",
    "    df = pd.read_csv(data)\n",
    "    \n",
    "    #properties = load_properties(netpath)\n",
    "    #epsilon=properties['epsilon']\n",
    "    \n",
    "    epsilon = 0.02\n",
    "    n = 30000\n",
    "    test_n_steps = len(df) - n\n",
    "    timestamp = df['Timestamp'][n:]\n",
    "    envRL_test = DQN_env.Env(df, full_battery_capacity=BATTERY_SIZE, max_energy=MAX_BATTERY_ENERGY, n_days=N_DAYS, n_steps=test_n_steps, low=n, high=len(df), test=True)\n",
    "    env_comp_test = DQN_env.Env(df, full_battery_capacity=BATTERY_SIZE, max_energy=MAX_BATTERY_ENERGY, n_days=N_DAYS, n_steps=test_n_steps, low=n, high=len(df), test=True)\n",
    "    dqn = DQN.DQN(envRL_test.next_observation_normalized().shape[0], 4)\n",
    "    dqn.load(netpath)\n",
    "    cost_dqn, cost_comp = run_episode(test_n_steps, envRL_test, env_comp_test, dqn, epsilon, 3, 3, timestamp)\n",
    "    gain, response = print_episode_results(cost_dqn, cost_comp, \"Testing episode: \"+ netpath, epsilon)\n",
    "    return gain\n",
    "\n",
    "def run(a, b, cost_to_beat, k, csv_path):\n",
    "    \n",
    "    # ENVIRONMENT AND AGENT INITIALIZATION\n",
    "    envRL = DQN_env.Env(df, BATTERY_SIZE, MAX_BATTERY_ENERGY, N_DAYS, N_STEPS)\n",
    "    envRL.reset(seed)\n",
    "    \n",
    "    dqn = DQN.DQN(envRL.next_observation_normalized().shape[0], 4)\n",
    "    #dqn.load('saved_nets/420percent_peak')\n",
    "    env_rand = DQN_env.Env(df, BATTERY_SIZE, MAX_BATTERY_ENERGY, N_DAYS, N_STEPS)\n",
    "    env_rand.reset(seed)\n",
    "    # TRAINING\n",
    "    n_episodes = 200\n",
    "    epsilon = 1\n",
    "    for episode in tqdm(range(n_episodes)):\n",
    "        epsilon = epsilon * 0.98\n",
    "        cost_dqn, cost_comp = run_episode(N_STEPS, envRL, env_rand, dqn, epsilon, a, b, None)\n",
    "    \n",
    "    path = 'saved_nets/it_' + str(k)\n",
    "    os.mkdir(path)\n",
    "    dqn.save(path)\n",
    "    save_properties(path, df, epsilon, a, b)\n",
    "    dqn.load(path)\n",
    "    # TESTING\n",
    "    print(\"--- TESTING ---\")\n",
    "    n = 30000\n",
    "    test_n_steps = len(df) - n\n",
    "    timestamp = df['Timestamp'][n:]\n",
    "    envRL_test = DQN_env.Env(df, full_battery_capacity=BATTERY_SIZE, max_energy=MAX_BATTERY_ENERGY, n_days=N_DAYS, n_steps=test_n_steps, low=n, high=len(df), test=True)\n",
    "    env_comp_test = DQN_env.Env(df, full_battery_capacity=BATTERY_SIZE, max_energy=MAX_BATTERY_ENERGY, n_days=N_DAYS, n_steps=test_n_steps, low=n, high=len(df), test=True)\n",
    "    \n",
    "    cost_dqn, cost_comp = run_episode(test_n_steps, envRL_test, env_comp_test, dqn, epsilon, a, b, timestamp)\n",
    "    gain, response = print_episode_results(cost_dqn, cost_comp, \"Testing episode, iteration: \" + str(k), epsilon)    \n",
    "    if cost_dqn > cost_to_beat:\n",
    "        dqn.load(path)\n",
    "        dqn.save('saved_nets')\n",
    "        print(\"--- SAVED ---\")\n",
    "        cost_to_beat = cost_dqn\n",
    "        \n",
    "    #test('working_data_peak.csv', 'saved_nets')\n",
    "    return cost_to_beat\n"
   ]
  },
  {
   "cell_type": "code",
   "execution_count": null,
   "id": "14e2552c-ec52-41b9-a6b9-3cd8cfdebfcb",
   "metadata": {
    "tags": []
   },
   "outputs": [
    {
     "name": "stderr",
     "output_type": "stream",
     "text": [
      "100%|██████████| 200/200 [04:54<00:00,  1.47s/it]\n"
     ]
    },
    {
     "name": "stdout",
     "output_type": "stream",
     "text": [
      "--- TESTING ---\n",
      "Episode:Testing episode, iteration: 0 | Epsilon: 0.02 | DQN cost:-547.93 | compare cost:-547.12 | Gain over compare: -0.81( -0.15% )\n",
      "--- SAVED ---\n"
     ]
    },
    {
     "name": "stderr",
     "output_type": "stream",
     "text": [
      "100%|██████████| 200/200 [05:59<00:00,  1.80s/it]\n"
     ]
    },
    {
     "name": "stdout",
     "output_type": "stream",
     "text": [
      "--- TESTING ---\n",
      "Episode:Testing episode, iteration: 1 | Epsilon: 0.02 | DQN cost:-547.22 | compare cost:-547.12 | Gain over compare: -0.1( -0.02% )\n",
      "--- SAVED ---\n"
     ]
    },
    {
     "name": "stderr",
     "output_type": "stream",
     "text": [
      "100%|██████████| 200/200 [06:40<00:00,  2.00s/it] \n"
     ]
    },
    {
     "name": "stdout",
     "output_type": "stream",
     "text": [
      "--- TESTING ---\n",
      "Episode:Testing episode, iteration: 2 | Epsilon: 0.02 | DQN cost:-557.7 | compare cost:-547.12 | Gain over compare: -10.58( -1.93% )\n",
      "--- SAVED ---\n"
     ]
    },
    {
     "name": "stderr",
     "output_type": "stream",
     "text": [
      "100%|██████████| 200/200 [07:39<00:00,  2.30s/it]\n"
     ]
    },
    {
     "name": "stdout",
     "output_type": "stream",
     "text": [
      "--- TESTING ---\n",
      "Episode:Testing episode, iteration: 3 | Epsilon: 0.02 | DQN cost:-519.68 | compare cost:-547.12 | Gain over compare: 27.44( 5.02% )\n",
      "--- SAVED ---\n"
     ]
    },
    {
     "name": "stderr",
     "output_type": "stream",
     "text": [
      "100%|██████████| 200/200 [06:41<00:00,  2.01s/it] \n"
     ]
    },
    {
     "name": "stdout",
     "output_type": "stream",
     "text": [
      "--- TESTING ---\n",
      "Episode:Testing episode, iteration: 4 | Epsilon: 0.02 | DQN cost:-875.81 | compare cost:-547.12 | Gain over compare: -328.69( -60.08% )\n"
     ]
    },
    {
     "name": "stderr",
     "output_type": "stream",
     "text": [
      "100%|██████████| 200/200 [04:44<00:00,  1.42s/it]\n"
     ]
    },
    {
     "name": "stdout",
     "output_type": "stream",
     "text": [
      "--- TESTING ---\n",
      "Episode:Testing episode, iteration: 5 | Epsilon: 0.02 | DQN cost:-558.83 | compare cost:-547.12 | Gain over compare: -11.71( -2.14% )\n",
      "--- SAVED ---\n"
     ]
    },
    {
     "name": "stderr",
     "output_type": "stream",
     "text": [
      "100%|██████████| 200/200 [04:36<00:00,  1.38s/it]\n"
     ]
    },
    {
     "name": "stdout",
     "output_type": "stream",
     "text": [
      "--- TESTING ---\n",
      "Episode:Testing episode, iteration: 6 | Epsilon: 0.02 | DQN cost:-531.24 | compare cost:-547.12 | Gain over compare: 15.88( 2.9% )\n",
      "--- SAVED ---\n"
     ]
    },
    {
     "name": "stderr",
     "output_type": "stream",
     "text": [
      "100%|██████████| 200/200 [04:42<00:00,  1.41s/it]\n"
     ]
    },
    {
     "name": "stdout",
     "output_type": "stream",
     "text": [
      "--- TESTING ---\n",
      "Episode:Testing episode, iteration: 7 | Epsilon: 0.02 | DQN cost:-556.28 | compare cost:-547.12 | Gain over compare: -9.16( -1.67% )\n",
      "--- SAVED ---\n"
     ]
    },
    {
     "name": "stderr",
     "output_type": "stream",
     "text": [
      "100%|██████████| 200/200 [04:37<00:00,  1.39s/it]\n"
     ]
    },
    {
     "name": "stdout",
     "output_type": "stream",
     "text": [
      "--- TESTING ---\n",
      "Episode:Testing episode, iteration: 8 | Epsilon: 0.02 | DQN cost:-548.93 | compare cost:-547.12 | Gain over compare: -1.81( -0.33% )\n",
      "--- SAVED ---\n"
     ]
    },
    {
     "name": "stderr",
     "output_type": "stream",
     "text": [
      "100%|██████████| 200/200 [04:36<00:00,  1.38s/it]\n"
     ]
    },
    {
     "name": "stdout",
     "output_type": "stream",
     "text": [
      "--- TESTING ---\n",
      "Episode:Testing episode, iteration: 9 | Epsilon: 0.02 | DQN cost:-663.86 | compare cost:-547.12 | Gain over compare: -116.74( -21.34% )\n"
     ]
    },
    {
     "name": "stderr",
     "output_type": "stream",
     "text": [
      "100%|██████████| 200/200 [04:42<00:00,  1.41s/it]\n"
     ]
    },
    {
     "name": "stdout",
     "output_type": "stream",
     "text": [
      "--- TESTING ---\n",
      "Episode:Testing episode, iteration: 10 | Epsilon: 0.02 | DQN cost:-512.19 | compare cost:-547.12 | Gain over compare: 34.93( 6.39% )\n",
      "--- SAVED ---\n"
     ]
    },
    {
     "name": "stderr",
     "output_type": "stream",
     "text": [
      "100%|██████████| 200/200 [04:44<00:00,  1.42s/it]\n"
     ]
    },
    {
     "name": "stdout",
     "output_type": "stream",
     "text": [
      "--- TESTING ---\n",
      "Episode:Testing episode, iteration: 11 | Epsilon: 0.02 | DQN cost:-542.24 | compare cost:-547.12 | Gain over compare: 4.88( 0.89% )\n",
      "--- SAVED ---\n"
     ]
    },
    {
     "name": "stderr",
     "output_type": "stream",
     "text": [
      "100%|██████████| 200/200 [04:42<00:00,  1.41s/it]\n"
     ]
    },
    {
     "name": "stdout",
     "output_type": "stream",
     "text": [
      "--- TESTING ---\n",
      "Episode:Testing episode, iteration: 12 | Epsilon: 0.02 | DQN cost:-550.67 | compare cost:-547.12 | Gain over compare: -3.55( -0.65% )\n",
      "--- SAVED ---\n"
     ]
    },
    {
     "name": "stderr",
     "output_type": "stream",
     "text": [
      "100%|██████████| 200/200 [06:36<00:00,  1.98s/it] \n"
     ]
    },
    {
     "name": "stdout",
     "output_type": "stream",
     "text": [
      "--- TESTING ---\n",
      "Episode:Testing episode, iteration: 13 | Epsilon: 0.02 | DQN cost:-554.01 | compare cost:-547.12 | Gain over compare: -6.89( -1.26% )\n",
      "--- SAVED ---\n"
     ]
    },
    {
     "name": "stderr",
     "output_type": "stream",
     "text": [
      "100%|██████████| 200/200 [04:52<00:00,  1.46s/it]\n"
     ]
    },
    {
     "name": "stdout",
     "output_type": "stream",
     "text": [
      "--- TESTING ---\n",
      "Episode:Testing episode, iteration: 14 | Epsilon: 0.02 | DQN cost:-560.24 | compare cost:-547.12 | Gain over compare: -13.12( -2.4% )\n",
      "--- SAVED ---\n"
     ]
    },
    {
     "name": "stderr",
     "output_type": "stream",
     "text": [
      "100%|██████████| 200/200 [04:45<00:00,  1.43s/it]\n"
     ]
    },
    {
     "name": "stdout",
     "output_type": "stream",
     "text": [
      "--- TESTING ---\n",
      "Episode:Testing episode, iteration: 15 | Epsilon: 0.02 | DQN cost:-554.01 | compare cost:-547.12 | Gain over compare: -6.89( -1.26% )\n",
      "--- SAVED ---\n"
     ]
    },
    {
     "name": "stderr",
     "output_type": "stream",
     "text": [
      "100%|██████████| 200/200 [07:09<00:00,  2.15s/it]\n"
     ]
    },
    {
     "name": "stdout",
     "output_type": "stream",
     "text": [
      "--- TESTING ---\n",
      "Episode:Testing episode, iteration: 16 | Epsilon: 0.02 | DQN cost:-546.75 | compare cost:-547.12 | Gain over compare: 0.37( 0.07% )\n",
      "--- SAVED ---\n"
     ]
    },
    {
     "name": "stderr",
     "output_type": "stream",
     "text": [
      "100%|██████████| 200/200 [04:46<00:00,  1.43s/it]\n"
     ]
    },
    {
     "name": "stdout",
     "output_type": "stream",
     "text": [
      "--- TESTING ---\n",
      "Episode:Testing episode, iteration: 17 | Epsilon: 0.02 | DQN cost:-502.91 | compare cost:-547.12 | Gain over compare: 44.21( 8.08% )\n",
      "--- SAVED ---\n"
     ]
    },
    {
     "name": "stderr",
     "output_type": "stream",
     "text": [
      "100%|██████████| 200/200 [04:53<00:00,  1.47s/it]\n"
     ]
    },
    {
     "name": "stdout",
     "output_type": "stream",
     "text": [
      "--- TESTING ---\n",
      "Episode:Testing episode, iteration: 18 | Epsilon: 0.02 | DQN cost:-546.38 | compare cost:-547.12 | Gain over compare: 0.74( 0.13% )\n",
      "--- SAVED ---\n"
     ]
    },
    {
     "name": "stderr",
     "output_type": "stream",
     "text": [
      "100%|██████████| 200/200 [04:49<00:00,  1.45s/it]\n"
     ]
    },
    {
     "name": "stdout",
     "output_type": "stream",
     "text": [
      "--- TESTING ---\n",
      "Episode:Testing episode, iteration: 19 | Epsilon: 0.02 | DQN cost:-538.75 | compare cost:-547.12 | Gain over compare: 8.37( 1.53% )\n",
      "--- SAVED ---\n"
     ]
    },
    {
     "name": "stderr",
     "output_type": "stream",
     "text": [
      " 56%|█████▋    | 113/200 [02:42<02:12,  1.52s/it]"
     ]
    }
   ],
   "source": [
    "import shutil\n",
    "import os\n",
    "\n",
    "BATTERY_SIZE = 100\n",
    "MAX_BATTERY_ENERGY = 5.8 * 1 / 4 * 2\n",
    "\n",
    "cost = -600\n",
    "k = 300\n",
    "l = 1\n",
    "\n",
    "\n",
    "for i in range(0, k):\n",
    "    if os.path.exists('saved_nets/it_' + str(i)):\n",
    "        shutil.rmtree('saved_nets/it_' + str(i))\n",
    "    cost = run(3,3,-600, i, 'working_data.csv')\n",
    "    with open('results.txt', 'a') as f:\n",
    "        f.write(str(i) + ' ' + str(cost) + '\\n')\n",
    "        \n",
    "\n",
    "for i in range(k, l):\n",
    "    if os.path.exists('saved_nets/it_' + str(i)):\n",
    "        shutil.rmtree('saved_nets/it_' + str(i))\n",
    "    cost = run(3,3,-600, i, 'working_data.csv')\n",
    "    with open('results.txt', 'a') as f:\n",
    "        f.write(str(i) + ' ' + str(cost) + '\\n')\n",
    "        "
   ]
  },
  {
   "cell_type": "code",
   "execution_count": 29,
   "id": "4406cf18-a971-45f3-9846-069f4f6aec8d",
   "metadata": {},
   "outputs": [
    {
     "name": "stdout",
     "output_type": "stream",
     "text": [
      "--- TESTING ---\n",
      "Episode:Testing episode: saved_nets/24percent_real_price | Epsilon: 0.02 | DQN cost:-399.67 | compare cost:-459.56 | Gain over compare: 59.89( 13.03% )\n"
     ]
    },
    {
     "data": {
      "text/plain": [
       "14.98"
      ]
     },
     "execution_count": 29,
     "metadata": {},
     "output_type": "execute_result"
    }
   ],
   "source": [
    "BATTERY_SIZE = 60\n",
    "MAX_BATTERY_ENERGY = 5.8 * 1 / 4 * 4\n",
    "test('working_data.csv', 'saved_nets/24percent_real_price')"
   ]
  },
  {
   "cell_type": "markdown",
   "id": "2903befa-d12b-4b26-93ca-8df2ca3feb49",
   "metadata": {},
   "source": [
    "Kaj če ne bi imeli generation? Kakšen bi bil zaslužek?"
   ]
  }
 ],
 "metadata": {
  "kernelspec": {
   "display_name": "Python 3 (ipykernel)",
   "language": "python",
   "name": "python3"
  },
  "language_info": {
   "codemirror_mode": {
    "name": "ipython",
    "version": 3
   },
   "file_extension": ".py",
   "mimetype": "text/x-python",
   "name": "python",
   "nbconvert_exporter": "python",
   "pygments_lexer": "ipython3",
   "version": "3.10.8"
  }
 },
 "nbformat": 4,
 "nbformat_minor": 5
}
